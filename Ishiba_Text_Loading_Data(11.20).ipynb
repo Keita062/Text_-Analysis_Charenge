{
  "nbformat": 4,
  "nbformat_minor": 0,
  "metadata": {
    "colab": {
      "provenance": [],
      "authorship_tag": "ABX9TyOeujROM3LQkSPreDtQ/kBv",
      "include_colab_link": true
    },
    "kernelspec": {
      "name": "python3",
      "display_name": "Python 3"
    },
    "language_info": {
      "name": "python"
    }
  },
  "cells": [
    {
      "cell_type": "markdown",
      "metadata": {
        "id": "view-in-github",
        "colab_type": "text"
      },
      "source": [
        "<a href=\"https://colab.research.google.com/github/Keita062/Text_-Analysis_Charenge/blob/main/Ishiba_Text_Loading_Data(11.20).ipynb\" target=\"_parent\"><img src=\"https://colab.research.google.com/assets/colab-badge.svg\" alt=\"Open In Colab\"/></a>"
      ]
    },
    {
      "cell_type": "code",
      "source": [
        "import requests\n",
        "from bs4 import BeautifulSoup"
      ],
      "metadata": {
        "id": "Iq8ph3KhOYt0"
      },
      "execution_count": 1,
      "outputs": []
    },
    {
      "cell_type": "code",
      "source": [
        "import numpy as np\n",
        "import pandas as pd\n",
        "import matplotlib.pyplot as plt\n",
        "import seaborn as sns\n"
      ],
      "metadata": {
        "id": "Et4kvd5TWGuI"
      },
      "execution_count": 17,
      "outputs": []
    },
    {
      "cell_type": "code",
      "execution_count": 15,
      "metadata": {
        "id": "-xAYWh0ZOOMg"
      },
      "outputs": [],
      "source": [
        "f = open(\"/content/演説全文.txt\", \"r\")\n",
        "content = f.read()\n",
        "f.close()"
      ]
    },
    {
      "cell_type": "code",
      "source": [
        "# ファイルを読み込み\n",
        "with open(\"/content/演説全文.txt\", \"r\", encoding=\"utf-8\") as f:\n",
        "    lines = f.readlines()\n",
        "\n",
        "# 改行や空白を取り除く\n",
        "lines = [line.strip() for line in lines]\n",
        "\n",
        "# DataFrameに変換\n",
        "speach = pd.DataFrame(lines, columns=[\"speech_line\"])\n",
        "\n",
        "# 最初の5行を表示\n",
        "speach.head()"
      ],
      "metadata": {
        "colab": {
          "base_uri": "https://localhost:8080/",
          "height": 206
        },
        "id": "-LdIcdDHOj0M",
        "outputId": "93065f5a-7e21-4846-d5d1-d0e3e336fa64"
      },
      "execution_count": 25,
      "outputs": [
        {
          "output_type": "execute_result",
          "data": {
            "text/plain": [
              "                speech_line\n",
              "0                      演説全文\n",
              "1                    一　はじめに\n",
              "2                          \n",
              "3  この度、第百二代内閣総理大臣に就任いたしました。\n",
              "4            「すべての人に安心と安全を」"
            ],
            "text/html": [
              "\n",
              "  <div id=\"df-06703df3-e772-4879-9f6f-fd9a68800764\" class=\"colab-df-container\">\n",
              "    <div>\n",
              "<style scoped>\n",
              "    .dataframe tbody tr th:only-of-type {\n",
              "        vertical-align: middle;\n",
              "    }\n",
              "\n",
              "    .dataframe tbody tr th {\n",
              "        vertical-align: top;\n",
              "    }\n",
              "\n",
              "    .dataframe thead th {\n",
              "        text-align: right;\n",
              "    }\n",
              "</style>\n",
              "<table border=\"1\" class=\"dataframe\">\n",
              "  <thead>\n",
              "    <tr style=\"text-align: right;\">\n",
              "      <th></th>\n",
              "      <th>speech_line</th>\n",
              "    </tr>\n",
              "  </thead>\n",
              "  <tbody>\n",
              "    <tr>\n",
              "      <th>0</th>\n",
              "      <td>演説全文</td>\n",
              "    </tr>\n",
              "    <tr>\n",
              "      <th>1</th>\n",
              "      <td>一　はじめに</td>\n",
              "    </tr>\n",
              "    <tr>\n",
              "      <th>2</th>\n",
              "      <td></td>\n",
              "    </tr>\n",
              "    <tr>\n",
              "      <th>3</th>\n",
              "      <td>この度、第百二代内閣総理大臣に就任いたしました。</td>\n",
              "    </tr>\n",
              "    <tr>\n",
              "      <th>4</th>\n",
              "      <td>「すべての人に安心と安全を」</td>\n",
              "    </tr>\n",
              "  </tbody>\n",
              "</table>\n",
              "</div>\n",
              "    <div class=\"colab-df-buttons\">\n",
              "\n",
              "  <div class=\"colab-df-container\">\n",
              "    <button class=\"colab-df-convert\" onclick=\"convertToInteractive('df-06703df3-e772-4879-9f6f-fd9a68800764')\"\n",
              "            title=\"Convert this dataframe to an interactive table.\"\n",
              "            style=\"display:none;\">\n",
              "\n",
              "  <svg xmlns=\"http://www.w3.org/2000/svg\" height=\"24px\" viewBox=\"0 -960 960 960\">\n",
              "    <path d=\"M120-120v-720h720v720H120Zm60-500h600v-160H180v160Zm220 220h160v-160H400v160Zm0 220h160v-160H400v160ZM180-400h160v-160H180v160Zm440 0h160v-160H620v160ZM180-180h160v-160H180v160Zm440 0h160v-160H620v160Z\"/>\n",
              "  </svg>\n",
              "    </button>\n",
              "\n",
              "  <style>\n",
              "    .colab-df-container {\n",
              "      display:flex;\n",
              "      gap: 12px;\n",
              "    }\n",
              "\n",
              "    .colab-df-convert {\n",
              "      background-color: #E8F0FE;\n",
              "      border: none;\n",
              "      border-radius: 50%;\n",
              "      cursor: pointer;\n",
              "      display: none;\n",
              "      fill: #1967D2;\n",
              "      height: 32px;\n",
              "      padding: 0 0 0 0;\n",
              "      width: 32px;\n",
              "    }\n",
              "\n",
              "    .colab-df-convert:hover {\n",
              "      background-color: #E2EBFA;\n",
              "      box-shadow: 0px 1px 2px rgba(60, 64, 67, 0.3), 0px 1px 3px 1px rgba(60, 64, 67, 0.15);\n",
              "      fill: #174EA6;\n",
              "    }\n",
              "\n",
              "    .colab-df-buttons div {\n",
              "      margin-bottom: 4px;\n",
              "    }\n",
              "\n",
              "    [theme=dark] .colab-df-convert {\n",
              "      background-color: #3B4455;\n",
              "      fill: #D2E3FC;\n",
              "    }\n",
              "\n",
              "    [theme=dark] .colab-df-convert:hover {\n",
              "      background-color: #434B5C;\n",
              "      box-shadow: 0px 1px 3px 1px rgba(0, 0, 0, 0.15);\n",
              "      filter: drop-shadow(0px 1px 2px rgba(0, 0, 0, 0.3));\n",
              "      fill: #FFFFFF;\n",
              "    }\n",
              "  </style>\n",
              "\n",
              "    <script>\n",
              "      const buttonEl =\n",
              "        document.querySelector('#df-06703df3-e772-4879-9f6f-fd9a68800764 button.colab-df-convert');\n",
              "      buttonEl.style.display =\n",
              "        google.colab.kernel.accessAllowed ? 'block' : 'none';\n",
              "\n",
              "      async function convertToInteractive(key) {\n",
              "        const element = document.querySelector('#df-06703df3-e772-4879-9f6f-fd9a68800764');\n",
              "        const dataTable =\n",
              "          await google.colab.kernel.invokeFunction('convertToInteractive',\n",
              "                                                    [key], {});\n",
              "        if (!dataTable) return;\n",
              "\n",
              "        const docLinkHtml = 'Like what you see? Visit the ' +\n",
              "          '<a target=\"_blank\" href=https://colab.research.google.com/notebooks/data_table.ipynb>data table notebook</a>'\n",
              "          + ' to learn more about interactive tables.';\n",
              "        element.innerHTML = '';\n",
              "        dataTable['output_type'] = 'display_data';\n",
              "        await google.colab.output.renderOutput(dataTable, element);\n",
              "        const docLink = document.createElement('div');\n",
              "        docLink.innerHTML = docLinkHtml;\n",
              "        element.appendChild(docLink);\n",
              "      }\n",
              "    </script>\n",
              "  </div>\n",
              "\n",
              "\n",
              "<div id=\"df-a22c13e5-3386-4036-8d4e-30bd227ccc7e\">\n",
              "  <button class=\"colab-df-quickchart\" onclick=\"quickchart('df-a22c13e5-3386-4036-8d4e-30bd227ccc7e')\"\n",
              "            title=\"Suggest charts\"\n",
              "            style=\"display:none;\">\n",
              "\n",
              "<svg xmlns=\"http://www.w3.org/2000/svg\" height=\"24px\"viewBox=\"0 0 24 24\"\n",
              "     width=\"24px\">\n",
              "    <g>\n",
              "        <path d=\"M19 3H5c-1.1 0-2 .9-2 2v14c0 1.1.9 2 2 2h14c1.1 0 2-.9 2-2V5c0-1.1-.9-2-2-2zM9 17H7v-7h2v7zm4 0h-2V7h2v10zm4 0h-2v-4h2v4z\"/>\n",
              "    </g>\n",
              "</svg>\n",
              "  </button>\n",
              "\n",
              "<style>\n",
              "  .colab-df-quickchart {\n",
              "      --bg-color: #E8F0FE;\n",
              "      --fill-color: #1967D2;\n",
              "      --hover-bg-color: #E2EBFA;\n",
              "      --hover-fill-color: #174EA6;\n",
              "      --disabled-fill-color: #AAA;\n",
              "      --disabled-bg-color: #DDD;\n",
              "  }\n",
              "\n",
              "  [theme=dark] .colab-df-quickchart {\n",
              "      --bg-color: #3B4455;\n",
              "      --fill-color: #D2E3FC;\n",
              "      --hover-bg-color: #434B5C;\n",
              "      --hover-fill-color: #FFFFFF;\n",
              "      --disabled-bg-color: #3B4455;\n",
              "      --disabled-fill-color: #666;\n",
              "  }\n",
              "\n",
              "  .colab-df-quickchart {\n",
              "    background-color: var(--bg-color);\n",
              "    border: none;\n",
              "    border-radius: 50%;\n",
              "    cursor: pointer;\n",
              "    display: none;\n",
              "    fill: var(--fill-color);\n",
              "    height: 32px;\n",
              "    padding: 0;\n",
              "    width: 32px;\n",
              "  }\n",
              "\n",
              "  .colab-df-quickchart:hover {\n",
              "    background-color: var(--hover-bg-color);\n",
              "    box-shadow: 0 1px 2px rgba(60, 64, 67, 0.3), 0 1px 3px 1px rgba(60, 64, 67, 0.15);\n",
              "    fill: var(--button-hover-fill-color);\n",
              "  }\n",
              "\n",
              "  .colab-df-quickchart-complete:disabled,\n",
              "  .colab-df-quickchart-complete:disabled:hover {\n",
              "    background-color: var(--disabled-bg-color);\n",
              "    fill: var(--disabled-fill-color);\n",
              "    box-shadow: none;\n",
              "  }\n",
              "\n",
              "  .colab-df-spinner {\n",
              "    border: 2px solid var(--fill-color);\n",
              "    border-color: transparent;\n",
              "    border-bottom-color: var(--fill-color);\n",
              "    animation:\n",
              "      spin 1s steps(1) infinite;\n",
              "  }\n",
              "\n",
              "  @keyframes spin {\n",
              "    0% {\n",
              "      border-color: transparent;\n",
              "      border-bottom-color: var(--fill-color);\n",
              "      border-left-color: var(--fill-color);\n",
              "    }\n",
              "    20% {\n",
              "      border-color: transparent;\n",
              "      border-left-color: var(--fill-color);\n",
              "      border-top-color: var(--fill-color);\n",
              "    }\n",
              "    30% {\n",
              "      border-color: transparent;\n",
              "      border-left-color: var(--fill-color);\n",
              "      border-top-color: var(--fill-color);\n",
              "      border-right-color: var(--fill-color);\n",
              "    }\n",
              "    40% {\n",
              "      border-color: transparent;\n",
              "      border-right-color: var(--fill-color);\n",
              "      border-top-color: var(--fill-color);\n",
              "    }\n",
              "    60% {\n",
              "      border-color: transparent;\n",
              "      border-right-color: var(--fill-color);\n",
              "    }\n",
              "    80% {\n",
              "      border-color: transparent;\n",
              "      border-right-color: var(--fill-color);\n",
              "      border-bottom-color: var(--fill-color);\n",
              "    }\n",
              "    90% {\n",
              "      border-color: transparent;\n",
              "      border-bottom-color: var(--fill-color);\n",
              "    }\n",
              "  }\n",
              "</style>\n",
              "\n",
              "  <script>\n",
              "    async function quickchart(key) {\n",
              "      const quickchartButtonEl =\n",
              "        document.querySelector('#' + key + ' button');\n",
              "      quickchartButtonEl.disabled = true;  // To prevent multiple clicks.\n",
              "      quickchartButtonEl.classList.add('colab-df-spinner');\n",
              "      try {\n",
              "        const charts = await google.colab.kernel.invokeFunction(\n",
              "            'suggestCharts', [key], {});\n",
              "      } catch (error) {\n",
              "        console.error('Error during call to suggestCharts:', error);\n",
              "      }\n",
              "      quickchartButtonEl.classList.remove('colab-df-spinner');\n",
              "      quickchartButtonEl.classList.add('colab-df-quickchart-complete');\n",
              "    }\n",
              "    (() => {\n",
              "      let quickchartButtonEl =\n",
              "        document.querySelector('#df-a22c13e5-3386-4036-8d4e-30bd227ccc7e button');\n",
              "      quickchartButtonEl.style.display =\n",
              "        google.colab.kernel.accessAllowed ? 'block' : 'none';\n",
              "    })();\n",
              "  </script>\n",
              "</div>\n",
              "\n",
              "    </div>\n",
              "  </div>\n"
            ],
            "application/vnd.google.colaboratory.intrinsic+json": {
              "type": "dataframe",
              "variable_name": "speach",
              "summary": "{\n  \"name\": \"speach\",\n  \"rows\": 120,\n  \"fields\": [\n    {\n      \"column\": \"speech_line\",\n      \"properties\": {\n        \"dtype\": \"string\",\n        \"num_unique_values\": 95,\n        \"samples\": [\n          \"\\u7af9\\u4e0b\\u7dcf\\u7406\\u306f\\u304b\\u3064\\u3066\\u3001\\u300c\\u5730\\u57df\\u304c\\u81ea\\u4e3b\\u6027\\u3068\\u8cac\\u4efb\\u3092\\u6301\\u3063\\u3066\\u3001\\u304a\\u306e\\u304a\\u306e\\u306e\\u77e5\\u6075\\u3068\\u60c5\\u71b1\\u3092\\u751f\\u304b\\u3057\\u3001\\u5c0f\\u3055\\u306a\\u6751\\u3082\\u5927\\u304d\\u306a\\u753a\\u3082\\u3053\\u305e\\u3063\\u3066\\u3001\\u5730\\u57df\\u3065\\u304f\\u308a\\u3092\\u307f\\u305a\\u304b\\u3089\\u8003\\u3048\\u3001\\u307f\\u305a\\u304b\\u3089\\u5b9f\\u8df5\\u3057\\u3066\\u3044\\u304f\\u300d\\u3068\\u8ff0\\u3079\\u3089\\u308c\\u307e\\u3057\\u305f\\u3002\\u300c\\u7523\\u5b98\\u5b66\\u91d1\\u52b4\\u8a00\\u300d\\u3001\\u3059\\u306a\\u308f\\u3061\\u3001\\u7523\\u696d\\u754c\\u3001\\u884c\\u653f\\u6a5f\\u95a2\\u3001\\u5927\\u5b66\\u3060\\u3051\\u3067\\u306a\\u304f\\u4e2d\\u5b66\\u6821\\u30fb\\u9ad8\\u7b49\\u5b66\\u6821\\u3082\\u542b\\u3081\\u305f\\u6559\\u80b2\\u6a5f\\u95a2\\u3001\\u91d1\\u878d\\u6a5f\\u95a2\\u3001\\u52b4\\u50cd\\u8005\\u306e\\u7686\\u69d8\\u3001\\u5831\\u9053\\u6a5f\\u95a2\\u306e\\u7686\\u69d8\\u3002\\u3053\\u3046\\u3057\\u305f\\u5730\\u57df\\u306e\\u591a\\u69d8\\u306a\\u30b9\\u30c6\\u30fc\\u30af\\u30db\\u30eb\\u30c0\\u30fc\\u304c\\u77e5\\u6075\\u3092\\u51fa\\u3057\\u5408\\u3044\\u3001\\u5730\\u57df\\u306e\\u53ef\\u80fd\\u6027\\u3092\\u6700\\u5927\\u9650\\u306b\\u5f15\\u304d\\u51fa\\u3057\\u3001\\u90fd\\u5e02\\u306b\\u4f4f\\u3080\\u4eba\\u3082\\u5730\\u65b9\\u306b\\u4f4f\\u3080\\u4eba\\u3082\\u3001\\u3059\\u3079\\u3066\\u306e\\u4eba\\u306b\\u5b89\\u5fc3\\u3068\\u5b89\\u5168\\u3092\\u4fdd\\u969c\\u3057\\u3001\\u5e0c\\u671b\\u3068\\u5e78\\u305b\\u3092\\u5b9f\\u611f\\u3059\\u308b\\u793e\\u4f1a\\u3002\\u305d\\u308c\\u304c\\u5730\\u65b9\\u5275\\u751f\\u306e\\u7cbe\\u795e\\u3067\\u3059\\u3002\\u4eca\\u4e00\\u5ea6\\u3001\\u5730\\u65b9\\u306b\\u96c7\\u7528\\u3068\\u6240\\u5f97\\u3001\\u305d\\u3057\\u3066\\u3001\\u90fd\\u5e02\\u306b\\u5b89\\u5fc3\\u3068\\u5b89\\u5168\\u3092\\u751f\\u307f\\u51fa\\u3057\\u307e\\u3059\\u3002\",\n          \"\\u65e5\\u7c73\\u540c\\u76df\\u306f\\u3001\\u65e5\\u672c\\u5916\\u4ea4\\u30fb\\u5b89\\u5168\\u4fdd\\u969c\\u306e\\u57fa\\u8ef8\\u3067\\u3042\\u308a\\u3001\\u30a4\\u30f3\\u30c9\\u592a\\u5e73\\u6d0b\\u5730\\u57df\\u3068\\u56fd\\u969b\\u793e\\u4f1a\\u306e\\u5e73\\u548c\\u3068\\u7e41\\u6804\\u306e\\u57fa\\u76e4\\u3067\\u3059\\u3002\\u307e\\u305a\\u306f\\u3053\\u306e\\u540c\\u76df\\u306e\\u6291\\u6b62\\u529b\\u30fb\\u5bfe\\u51e6\\u529b\\u3092\\u4e00\\u5c64\\u5f37\\u5316\\u3057\\u307e\\u3059\\u3002\\u52a0\\u3048\\u3066\\u3001\\u540c\\u5fd7\\u56fd\\u3068\\u306e\\u9023\\u643a\\u5f37\\u5316\\u306b\\u53d6\\u308a\\u7d44\\u3093\\u3067\\u307e\\u3044\\u308a\\u307e\\u3059\\u3002\\u5148\\u65e5\\u306f\\u3001\\u65e9\\u901f\\u30d0\\u30a4\\u30c7\\u30f3\\u7c73\\u56fd\\u5927\\u7d71\\u9818\\u306b\\u52a0\\u3048\\u3001\\u97d3\\u56fd\\u3001\\u8c6a\\u5dde\\u3001\\uff27\\uff17\\u5404\\u56fd\\u306e\\u9996\\u8133\\u3068\\u96fb\\u8a71\\u4f1a\\u8ac7\\u3092\\u884c\\u3044\\u307e\\u3057\\u305f\\u3002\",\n          \"\\u5730\\u65b9\\u306e\\u6210\\u9577\\u306e\\u6839\\u5e79\\u3067\\u3042\\u308b\\u8fb2\\u6797\\u6c34\\u7523\\u696d\\u306f\\u3001\\u8fb2\\u5c71\\u6f01\\u6751\\u306e\\u96c7\\u7528\\u3068\\u6240\\u5f97\\u3092\\u751f\\u307f\\u51fa\\u3059\\u3068\\u3068\\u3082\\u306b\\u3001\\u56fd\\u5bb6\\u306e\\u5b89\\u5168\\u4fdd\\u969c\\u306e\\u4e00\\u74b0\\u3067\\u3082\\u3042\\u308b\\u3053\\u3068\\u304b\\u3089\\u3001\\u305d\\u306e\\u6301\\u3066\\u308b\\u529b\\u3092\\u6700\\u5927\\u9650\\u5f15\\u304d\\u51fa\\u3057\\u3066\\u307e\\u3044\\u308a\\u307e\\u3059\\u3002\\u65b0\\u305f\\u306a\\u57fa\\u672c\\u6cd5\\u306e\\u4e0b\\u3001\\u6700\\u521d\\u306e\\u4e94\\u5e74\\u9593\\u306b\\u8a08\\u753b\\u7684\\u304b\\u3064\\u96c6\\u4e2d\\u3057\\u305f\\u65bd\\u7b56\\u3092\\u8b1b\\u3058\\u308b\\u3053\\u3068\\u306b\\u3088\\u308a\\u3001\\u98df\\u6599\\u5b89\\u5168\\u4fdd\\u969c\\u306e\\u78ba\\u4fdd\\u3001\\u74b0\\u5883\\u3068\\u8abf\\u548c\\u306e\\u3068\\u308c\\u305f\\u98df\\u6599\\u30b7\\u30b9\\u30c6\\u30e0\\u306e\\u78ba\\u7acb\\u3001\\u8fb2\\u6797\\u6c34\\u7523\\u696d\\u306e\\u6301\\u7d9a\\u7684\\u306a\\u767a\\u5c55\\u3001\\u4e2d\\u5c71\\u9593\\u5730\\u57df\\u3092\\u59cb\\u3081\\u3068\\u3059\\u308b\\u8fb2\\u5c71\\u6f01\\u6751\\u306e\\u632f\\u8208\\u3092\\u56f3\\u308a\\u307e\\u3059\\u3002\\u56fd\\u5185\\u306e\\u751f\\u7523\\u57fa\\u76e4\\u306e\\u7dad\\u6301\\u306e\\u89b3\\u70b9\\u3082\\u8e0f\\u307e\\u3048\\u3001\\u8fb2\\u6797\\u6c34\\u7523\\u7269\\u306e\\u8f38\\u51fa\\u3092\\u3088\\u308a\\u4e00\\u5c64\\u4fc3\\u9032\\u3057\\u307e\\u3059\\u3002\\u6301\\u7d9a\\u53ef\\u80fd\\u306a\\u98df\\u54c1\\u7523\\u696d\\u3078\\u306e\\u8ee2\\u63db\\u3092\\u4fc3\\u9032\\u3057\\u3001\\u5faa\\u74b0\\u578b\\u6797\\u696d\\u306a\\u3069\\u5f37\\u3044\\u6797\\u696d\\u3065\\u304f\\u308a\\u3084\\u3001\\u6d77\\u6d0b\\u74b0\\u5883\\u306e\\u5909\\u5316\\u3092\\u8e0f\\u307e\\u3048\\u305f\\u64cd\\u696d\\u5f62\\u614b\\u3084\\u990a\\u6b96\\u696d\\u3078\\u306e\\u8ee2\\u63db\\u3001\\u6d77\\u696d\\u306e\\u5168\\u56fd\\u5c55\\u958b\\u306a\\u3069\\u6f01\\u696d\\u30fb\\u6c34\\u7523\\u696d\\u306e\\u6d3b\\u6027\\u5316\\u306b\\u53d6\\u308a\\u7d44\\u307f\\u307e\\u3059\\u3002\"\n        ],\n        \"semantic_type\": \"\",\n        \"description\": \"\"\n      }\n    }\n  ]\n}"
            }
          },
          "metadata": {},
          "execution_count": 25
        }
      ]
    },
    {
      "cell_type": "code",
      "source": [
        "speach.shape"
      ],
      "metadata": {
        "colab": {
          "base_uri": "https://localhost:8080/"
        },
        "id": "gDNpU_eHZcVI",
        "outputId": "63085679-d387-4bc7-8119-49185251b02c"
      },
      "execution_count": 27,
      "outputs": [
        {
          "output_type": "execute_result",
          "data": {
            "text/plain": [
              "(120, 1)"
            ]
          },
          "metadata": {},
          "execution_count": 27
        }
      ]
    },
    {
      "cell_type": "code",
      "source": [
        "print(speach.info())\n",
        "print(speach.describe())"
      ],
      "metadata": {
        "colab": {
          "base_uri": "https://localhost:8080/"
        },
        "id": "7ivUOdy-gLVd",
        "outputId": "a68cb5b5-33b2-4aa7-91d2-e9a45291652a"
      },
      "execution_count": 30,
      "outputs": [
        {
          "output_type": "stream",
          "name": "stdout",
          "text": [
            "<class 'pandas.core.frame.DataFrame'>\n",
            "RangeIndex: 120 entries, 0 to 119\n",
            "Data columns (total 1 columns):\n",
            " #   Column       Non-Null Count  Dtype \n",
            "---  ------       --------------  ----- \n",
            " 0   speech_line  120 non-null    object\n",
            "dtypes: object(1)\n",
            "memory usage: 1.1+ KB\n",
            "None\n",
            "       speech_line\n",
            "count          120\n",
            "unique          95\n",
            "top               \n",
            "freq            25\n"
          ]
        }
      ]
    },
    {
      "cell_type": "code",
      "source": [],
      "metadata": {
        "id": "lQ4b0RLyorck"
      },
      "execution_count": null,
      "outputs": []
    }
  ]
}